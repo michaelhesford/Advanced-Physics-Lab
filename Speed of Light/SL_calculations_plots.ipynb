{
 "cells": [
  {
   "cell_type": "code",
   "execution_count": 15,
   "id": "3a7e489d",
   "metadata": {},
   "outputs": [],
   "source": [
    "import numpy as np\n",
    "import pandas as pd\n",
    "import scipy.optimize as opt\n",
    "import sympy as sp\n",
    "import matplotlib.pyplot as plt\n",
    "%matplotlib inline"
   ]
  },
  {
   "cell_type": "code",
   "execution_count": 16,
   "id": "fc1a33bf",
   "metadata": {
    "scrolled": true
   },
   "outputs": [
    {
     "data": {
      "text/html": [
       "<div>\n",
       "<style scoped>\n",
       "    .dataframe tbody tr th:only-of-type {\n",
       "        vertical-align: middle;\n",
       "    }\n",
       "\n",
       "    .dataframe tbody tr th {\n",
       "        vertical-align: top;\n",
       "    }\n",
       "\n",
       "    .dataframe thead th {\n",
       "        text-align: right;\n",
       "    }\n",
       "</style>\n",
       "<table border=\"1\" class=\"dataframe\">\n",
       "  <thead>\n",
       "    <tr style=\"text-align: right;\">\n",
       "      <th></th>\n",
       "      <th>w (rad/s)</th>\n",
       "      <th>w_err (rad/s)</th>\n",
       "      <th>L1 (cm)</th>\n",
       "      <th>L1_err (cm)</th>\n",
       "      <th>L2 (cm)</th>\n",
       "      <th>L2_err (cm)</th>\n",
       "      <th>MR (cm)</th>\n",
       "      <th>MR_err (cm)</th>\n",
       "      <th>MR_MFL (cm)</th>\n",
       "      <th>MR_MFL_err (cm)</th>\n",
       "      <th>MFL_MF (cm)</th>\n",
       "      <th>MFL_MF_err (cm)</th>\n",
       "      <th>s (um)</th>\n",
       "      <th>s_err (um)</th>\n",
       "      <th>scope (cm)</th>\n",
       "      <th>scope_err (cm)</th>\n",
       "    </tr>\n",
       "  </thead>\n",
       "  <tbody>\n",
       "    <tr>\n",
       "      <th>0</th>\n",
       "      <td>0</td>\n",
       "      <td>0</td>\n",
       "      <td>92.95</td>\n",
       "      <td>0.05</td>\n",
       "      <td>61.35</td>\n",
       "      <td>0.05</td>\n",
       "      <td>17.1</td>\n",
       "      <td>0.05</td>\n",
       "      <td>449</td>\n",
       "      <td>5</td>\n",
       "      <td>374</td>\n",
       "      <td>5</td>\n",
       "      <td>955</td>\n",
       "      <td>4</td>\n",
       "      <td>81.9</td>\n",
       "      <td>0.05</td>\n",
       "    </tr>\n",
       "    <tr>\n",
       "      <th>1</th>\n",
       "      <td>-750</td>\n",
       "      <td>1</td>\n",
       "      <td>92.95</td>\n",
       "      <td>0.05</td>\n",
       "      <td>61.35</td>\n",
       "      <td>0.05</td>\n",
       "      <td>17.1</td>\n",
       "      <td>0.05</td>\n",
       "      <td>449</td>\n",
       "      <td>5</td>\n",
       "      <td>374</td>\n",
       "      <td>5</td>\n",
       "      <td>942</td>\n",
       "      <td>4</td>\n",
       "      <td>81.9</td>\n",
       "      <td>0.05</td>\n",
       "    </tr>\n",
       "    <tr>\n",
       "      <th>2</th>\n",
       "      <td>-1500</td>\n",
       "      <td>1</td>\n",
       "      <td>92.95</td>\n",
       "      <td>0.05</td>\n",
       "      <td>61.35</td>\n",
       "      <td>0.05</td>\n",
       "      <td>17.1</td>\n",
       "      <td>0.05</td>\n",
       "      <td>449</td>\n",
       "      <td>5</td>\n",
       "      <td>374</td>\n",
       "      <td>5</td>\n",
       "      <td>930</td>\n",
       "      <td>4</td>\n",
       "      <td>81.9</td>\n",
       "      <td>0.05</td>\n",
       "    </tr>\n",
       "    <tr>\n",
       "      <th>3</th>\n",
       "      <td>750</td>\n",
       "      <td>1</td>\n",
       "      <td>92.95</td>\n",
       "      <td>0.05</td>\n",
       "      <td>61.35</td>\n",
       "      <td>0.05</td>\n",
       "      <td>17.1</td>\n",
       "      <td>0.05</td>\n",
       "      <td>449</td>\n",
       "      <td>5</td>\n",
       "      <td>374</td>\n",
       "      <td>5</td>\n",
       "      <td>969</td>\n",
       "      <td>4</td>\n",
       "      <td>81.9</td>\n",
       "      <td>0.05</td>\n",
       "    </tr>\n",
       "    <tr>\n",
       "      <th>4</th>\n",
       "      <td>1500</td>\n",
       "      <td>1</td>\n",
       "      <td>92.95</td>\n",
       "      <td>0.05</td>\n",
       "      <td>61.35</td>\n",
       "      <td>0.05</td>\n",
       "      <td>17.1</td>\n",
       "      <td>0.05</td>\n",
       "      <td>449</td>\n",
       "      <td>5</td>\n",
       "      <td>374</td>\n",
       "      <td>5</td>\n",
       "      <td>982</td>\n",
       "      <td>4</td>\n",
       "      <td>81.9</td>\n",
       "      <td>0.05</td>\n",
       "    </tr>\n",
       "  </tbody>\n",
       "</table>\n",
       "</div>"
      ],
      "text/plain": [
       "   w (rad/s)  w_err (rad/s)  L1 (cm)  L1_err (cm)  L2 (cm)  L2_err (cm)  \\\n",
       "0          0              0    92.95         0.05    61.35         0.05   \n",
       "1       -750              1    92.95         0.05    61.35         0.05   \n",
       "2      -1500              1    92.95         0.05    61.35         0.05   \n",
       "3        750              1    92.95         0.05    61.35         0.05   \n",
       "4       1500              1    92.95         0.05    61.35         0.05   \n",
       "\n",
       "   MR (cm)  MR_err (cm)  MR_MFL (cm)  MR_MFL_err (cm)  MFL_MF (cm)  \\\n",
       "0     17.1         0.05          449                5          374   \n",
       "1     17.1         0.05          449                5          374   \n",
       "2     17.1         0.05          449                5          374   \n",
       "3     17.1         0.05          449                5          374   \n",
       "4     17.1         0.05          449                5          374   \n",
       "\n",
       "   MFL_MF_err (cm)  s (um)  s_err (um)  scope (cm)  scope_err (cm)  \n",
       "0                5     955           4        81.9            0.05  \n",
       "1                5     942           4        81.9            0.05  \n",
       "2                5     930           4        81.9            0.05  \n",
       "3                5     969           4        81.9            0.05  \n",
       "4                5     982           4        81.9            0.05  "
      ]
     },
     "execution_count": 16,
     "metadata": {},
     "output_type": "execute_result"
    }
   ],
   "source": [
    "data = pd.read_csv('SL_data.csv')\n",
    "data"
   ]
  },
  {
   "cell_type": "code",
   "execution_count": 43,
   "id": "0935dfb3",
   "metadata": {},
   "outputs": [
    {
     "name": "stdout",
     "output_type": "stream",
     "text": [
      "A = 0.268 m\n",
      "B = 0.4425 m\n",
      "D = 8.23 m\n",
      "0.001 0.001 0.1\n"
     ]
    }
   ],
   "source": [
    "#Define relevant quantities\n",
    "#Notes: s/s_err actually in units of 10 micrometers\n",
    "#       w/w_err actually in units of revolutions/second\n",
    "\n",
    "w = data['w (rad/s)']*(2*np.pi) #rad/s\n",
    "w_err = data['w_err (rad/s)']*(2*np.pi)\n",
    "s = data['s (um)'] * 10**-5 #meters\n",
    "s_err = (data['s_err (um)']-4+2.5)* 10**-5 #meters\n",
    "\n",
    "L1_fl = 48 * 10**-3 #focal lenght of lense 1\n",
    "L2_fl = 252 * 10**-3 #focal length of lense 2\n",
    "A = (data['L1 (cm)'][0] - data['L2 (cm)'][0])*0.01 - L1_fl\n",
    "B = (data['L2 (cm)'][0] - data['MR (cm)'][0])*0.01\n",
    "D = (data['MR_MFL (cm)'][0] + data['MFL_MF (cm)'][0])*0.01\n",
    "A_err = (data['L1_err (cm)'][0] + data['L2_err (cm)'][0])*0.01\n",
    "B_err = (data['L2_err (cm)'][0] + data['MR_err (cm)'][0])*0.01\n",
    "D_err = (data['MR_MFL_err (cm)'][0] + data['MFL_MF_err (cm)'][0])*0.01\n",
    "print('A = {} m'.format(A))\n",
    "print('B = {} m'.format(B))\n",
    "print('D = {} m'.format(D))\n",
    "print(A_err,B_err,D_err)"
   ]
  },
  {
   "cell_type": "code",
   "execution_count": 44,
   "id": "f33b1fd4",
   "metadata": {},
   "outputs": [
    {
     "data": {
      "text/plain": [
       "Text(0, 0.5, 'Spot position (mm)')"
      ]
     },
     "execution_count": 44,
     "metadata": {},
     "output_type": "execute_result"
    },
    {
     "data": {
      "image/png": "[encoded data removed]",
      "text/plain": [
       "<Figure size 432x288 with 1 Axes>"
      ]
     },
     "metadata": {
      "needs_background": "light"
     },
     "output_type": "display_data"
    }
   ],
   "source": [
    "plt.errorbar(w/(2*np.pi),s*10**3,xerr=w_err/(2*np.pi),yerr=s_err*10**3,fmt='.')\n",
    "plt.xlabel('Frequency (rev/s)',size=12)\n",
    "plt.ylabel('Spot position (mm)',size=12)"
   ]
  },
  {
   "cell_type": "code",
   "execution_count": 45,
   "id": "358a1bc2",
   "metadata": {},
   "outputs": [
    {
     "name": "stdout",
     "output_type": "stream",
     "text": [
      "W11 = 3.553057584392169e+17\n",
      "W12 = 0.001953125\n",
      "W21 = 0.001953125\n",
      "W22 = 8000000000.0\n"
     ]
    }
   ],
   "source": [
    "#Define the W matrix elements\n",
    "W_11 = sum([(w[i]/s_err[i])**2 for i in range(len(w))])\n",
    "W_12 = sum([w[i]/s_err[i]**2 for i in range(len(w))])\n",
    "W_21 = W_12\n",
    "W_22 = sum([1/s_err[i]**2 for i in range(len(w))])\n",
    "\n",
    "print('W11 = {}'.format(W_11))\n",
    "print('W12 = {}'.format(W_12))\n",
    "print('W21 = {}'.format(W_21))\n",
    "print('W22 = {}'.format(W_22))"
   ]
  },
  {
   "cell_type": "code",
   "execution_count": 69,
   "id": "825b0891",
   "metadata": {},
   "outputs": [
    {
     "name": "stdout",
     "output_type": "stream",
     "text": [
      "W^-1_11 = 2.8144773233982716e-18\n",
      "W^-1_12 = -6.871282527827812e-31\n",
      "W^-1_21 = -6.871282527827812e-31\n",
      "W^-1_22 = 1.25e-10\n"
     ]
    }
   ],
   "source": [
    "#Define the W^-1 matrix (which is what we actually care about)\n",
    "det = W_11*W_22 - W_21*W_12 #determinant\n",
    "W11 = 1/det * W_22\n",
    "W12 = 1/det * -W_21\n",
    "W21 = 1/det * -W_12\n",
    "W22 = 1/det * W_11\n",
    "\n",
    "print('W^-1_11 = {}'.format(W11))\n",
    "print('W^-1_12 = {}'.format(W12))\n",
    "print('W^-1_21 = {}'.format(W21))\n",
    "print('W^-1_22 = {}'.format(W22))"
   ]
  },
  {
   "cell_type": "code",
   "execution_count": 70,
   "id": "8883090e",
   "metadata": {},
   "outputs": [
    {
     "name": "stdout",
     "output_type": "stream",
     "text": [
      "m = 2.7799063393384196e-08 +/- 1.6776404034829012e-09\n",
      "b = 0.009556 +/- 1.1180339887498949e-05\n"
     ]
    }
   ],
   "source": [
    "#Want to fit data w/ linear model (y=mx+b)\n",
    "#Now compute the best-fit values of m, b\n",
    "#See Statistics and Liklihood handout for these formulas\n",
    "\n",
    "m = W11 * sum([s[i]*w[i]/s_err[i]**2 for i in range(len(w))]) + W12 * sum([s[i]/s_err[i]**2 for i in range(len(w))])\n",
    "b = W21 * sum([s[i]*w[i]/s_err[i]**2 for i in range(len(w))]) + W22 * sum([s[i]/s_err[i]**2 for i in range(len(w))])\n",
    "m_err = np.sqrt(W11)\n",
    "b_err = np.sqrt(W22)\n",
    "\n",
    "print('m = {} +/- {}'.format(m,m_err))\n",
    "print('b = {} +/- {}'.format (b,b_err))"
   ]
  },
  {
   "cell_type": "code",
   "execution_count": 57,
   "id": "acec5b73",
   "metadata": {},
   "outputs": [
    {
     "name": "stdout",
     "output_type": "stream",
     "text": [
      "m auto = 2.779906331795204e-08 +/- 1.6776404505268933e-09\n",
      "b auto = 0.009556 +/- 1.1180339879704496e-05\n"
     ]
    }
   ],
   "source": [
    "#Let's try an automatic curve fit to check\n",
    "\n",
    "def line_model(x,m,b):\n",
    "    y = m*x + b\n",
    "    return y\n",
    "\n",
    "fit, dfit = opt.curve_fit(line_model,w,s,sigma=s_err,p0=[0,1],absolute_sigma=True)\n",
    "m_auto=fit[0]; m_auto_err=np.sqrt(dfit[0,0])\n",
    "b_auto=fit[1]; b_auto_err=np.sqrt(dfit[1,1])\n",
    "print('m auto = {} +/- {}'.format(m_auto,m_auto_err))\n",
    "print('b auto = {} +/- {}'.format (b_auto,b_auto_err))"
   ]
  },
  {
   "cell_type": "code",
   "execution_count": 64,
   "id": "233689fa",
   "metadata": {
    "scrolled": false
   },
   "outputs": [
    {
     "data": {
      "text/plain": [
       "Text(0, 0.5, 'Spot position (mm)')"
      ]
     },
     "execution_count": 64,
     "metadata": {},
     "output_type": "execute_result"
    },
    {
     "data": {
      "image/png": "[encoded data removed]",
      "text/plain": [
       "<Figure size 432x288 with 1 Axes>"
      ]
     },
     "metadata": {
      "needs_background": "light"
     },
     "output_type": "display_data"
    }
   ],
   "source": [
    "plt.errorbar(w/(2*np.pi),s*10**3,xerr=w_err/(2*np.pi),yerr=s_err*10**3,fmt='.')\n",
    "plt.plot(w/(2*np.pi),line_model(w/(2*np.pi),m*(2*np.pi),b)*10**3) #I've converted all quantities so that plots are in rev/s, mm\n",
    "plt.xlabel('Frequency (rev/s)',size=12)\n",
    "plt.ylabel('Spot position (mm)',size=12)"
   ]
  },
  {
   "cell_type": "code",
   "execution_count": 65,
   "id": "e5e5bd28",
   "metadata": {},
   "outputs": [
    {
     "name": "stdout",
     "output_type": "stream",
     "text": [
      "c = 3.011757381056682 x 10^8 m/s\n"
     ]
    }
   ],
   "source": [
    "#Derive c from slope: c = (1/m)*4AD^2/(D+B) - see SL manual + my lab notes for calculation\n",
    "C = 4*A*(D**2)/(D+B)/m\n",
    "print(\"c = {} x 10^8 m/s\".format(C/10**8))"
   ]
  },
  {
   "cell_type": "code",
   "execution_count": 66,
   "id": "1b2db42c",
   "metadata": {},
   "outputs": [
    {
     "name": "stdout",
     "output_type": "stream",
     "text": [
      "c err = 0.186120862036007 x 10^8 m/s\n"
     ]
    }
   ],
   "source": [
    "#Error propagation\n",
    "from sympy.abc import a,b,c,d,r #r=slope\n",
    "sublist = [(a,A),(b,B),(d,D),(r,m)]\n",
    "c = 4*a*(d**2)/(d+b)/r\n",
    "dcda = c.diff(a)\n",
    "dcdb = c.diff(b)\n",
    "dcdd = c.diff(d)\n",
    "dcdr = c.diff(r)\n",
    "\n",
    "c_var = (A_err**2 * dcda**2) + (B_err**2 * dcdb**2) + (D_err**2 * dcdd**2) + (m_err**2 * dcdr**2)\n",
    "c_err = c_var**0.5\n",
    "C_err = c_err.subs(sublist)\n",
    "print(\"c err = {} x 10^8 m/s\".format(C_err/10**8))"
   ]
  },
  {
   "cell_type": "code",
   "execution_count": 67,
   "id": "dfa98846",
   "metadata": {},
   "outputs": [
    {
     "name": "stdout",
     "output_type": "stream",
     "text": [
      "Speed of light = (3.0 +/- 0.2) x 10^8 m/s\n"
     ]
    }
   ],
   "source": [
    "print(\"Speed of light = (%.1f +/- %.1f) x 10^8 m/s\" %(C/10**8,C_err/10**8))"
   ]
  },
  {
   "cell_type": "code",
   "execution_count": 71,
   "id": "52683a60",
   "metadata": {},
   "outputs": [
    {
     "name": "stdout",
     "output_type": "stream",
     "text": [
      "0.17599999999998567\n"
     ]
    }
   ],
   "source": [
    "#Calculate X^2 test statistic\n",
    "X2 = 0\n",
    "for x_i, y_i, dy_i in zip(w,s,s_err):\n",
    "    X2 = X2 + (y_i - m*x_i - b)**2/(dy_i)**2\n",
    "print(X2)"
   ]
  },
  {
   "cell_type": "code",
   "execution_count": null,
   "id": "984e634d",
   "metadata": {},
   "outputs": [],
   "source": []
  }
 ],
 "metadata": {
  "kernelspec": {
   "display_name": "Python 3",
   "language": "python",
   "name": "python3"
  },
  "language_info": {
   "codemirror_mode": {
    "name": "ipython",
    "version": 3
   },
   "file_extension": ".py",
   "mimetype": "text/x-python",
   "name": "python",
   "nbconvert_exporter": "python",
   "pygments_lexer": "ipython3",
   "version": "3.8.8"
  }
 },
 "nbformat": 4,
 "nbformat_minor": 5
}
